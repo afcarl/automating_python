{
 "cells": [
  {
   "cell_type": "markdown",
   "metadata": {
    "collapsed": false,
    "deletable": true,
    "editable": true
   },
   "source": [
    "I wrote [a few months back](http://tdhopper.com/blog/2016/Nov/15/data-scientists-need-more-automation/) about how data scientists need more automation. In particular, I @@@@"
   ]
  },
  {
   "cell_type": "markdown",
   "metadata": {},
   "source": [
    "Ansible provides \"human readable automation\" for \"app deployment\" and \"configuration management\". Unlike tools like Chef, it doesn't require an agent to be running on remote machines. In short, it translates declarative YAML files into shell commands and runs them your machines over SSH."
   ]
  },
  {
   "cell_type": "markdown",
   "metadata": {},
   "source": [
    "### Installing Ansible with Homebrew \n",
    "\n",
    "First, you'll need to install Ansible. I recommend doing this with [Homebrew](https://brew.sh/)."
   ]
  },
  {
   "cell_type": "code",
   "execution_count": 3,
   "metadata": {
    "collapsed": false
   },
   "outputs": [
    {
     "name": "stdout",
     "output_type": "stream",
     "text": [
      "brew install ansible\n",
      "\u001b[4;33mWarning\u001b[0m: ansible-2.1.0.0 already installed\n",
      "\u001b[4;33mWarning\u001b[0m: You are using OS X 10.12.\n",
      "We do not provide support for this pre-release version.\n",
      "You may encounter build failures or other breakages.\n"
     ]
    },
    {
     "ename": "",
     "evalue": "1",
     "output_type": "error",
     "traceback": []
    }
   ],
   "source": [
    "brew install ansible"
   ]
  },
  {
   "cell_type": "markdown",
   "metadata": {},
   "source": [
    "### Quickstart\n",
    "\n",
    "Soon, I'll show you how to put write an Ansible YAML file. However, Ansible also allows you specify tasks from the command line. \n",
    "\n",
    "Here's how we could use Ansible ping our local host:"
   ]
  },
  {
   "cell_type": "code",
   "execution_count": 44,
   "metadata": {
    "collapsed": false
   },
   "outputs": [
    {
     "name": "stdout",
     "output_type": "stream",
     "text": [
      "ansible -i 'localhost,' -c local -m ping all\n",
      "\u001b[0;32mlocalhost | SUCCESS => {\n",
      "    \"changed\": false, \n",
      "    \"ping\": \"pong\"\n",
      "}\u001b[0m\n"
     ]
    },
    {
     "ename": "",
     "evalue": "1",
     "output_type": "error",
     "traceback": []
    }
   ],
   "source": [
    "ansible -i 'localhost,' -c local -m ping all"
   ]
  },
  {
   "cell_type": "code",
   "execution_count": 48,
   "metadata": {
    "collapsed": false,
    "deletable": true,
    "editable": true
   },
   "outputs": [
    {
     "name": "stdout",
     "output_type": "stream",
     "text": [
      "ansible -i 'localhost,' -c local -m ping all -vvv\n",
      "Using /Users/tdhopper/repos/automating_python/ansible.cfg as config file\n",
      "\u001b[0;34m<localhost> ESTABLISH LOCAL CONNECTION FOR USER: tdhopper\u001b[0m\n",
      "\u001b[0;34m<localhost> EXEC /bin/sh -c '( umask 77 && mkdir -p \"` echo $HOME/.ansible/tmp/ansible-tmp-1490022689.35-148051626033129 `\" && echo ansible-tmp-1490022689.35-148051626033129=\"` echo $HOME/.ansible/tmp/ansible-tmp-1490022689.35-148051626033129 `\" ) && sleep 0'\u001b[0m\n",
      "\u001b[0;34m<localhost> PUT /var/folders/4l/b_gx3vx957g8lw0g__5nz9_h0000gn/T/tmp6QUTxd TO /Users/tdhopper/.ansible/tmp/ansible-tmp-1490022689.35-148051626033129/ping\u001b[0m\n",
      "\u001b[0;34m<localhost> EXEC /bin/sh -c 'LANG=en_US.UTF-8 LC_ALL=en_US.UTF-8 LC_MESSAGES=en_US.UTF-8 /usr/bin/python /Users/tdhopper/.ansible/tmp/ansible-tmp-1490022689.35-148051626033129/ping; rm -rf \"/Users/tdhopper/.ansible/tmp/ansible-tmp-1490022689.35-148051626033129/\" > /dev/null 2>&1 && sleep 0'\u001b[0m\n",
      "\u001b[0;32mlocalhost | SUCCESS => {\n",
      "    \"changed\": false, \n",
      "    \"invocation\": {\n",
      "        \"module_args\": {\n",
      "            \"data\": null\n",
      "        }, \n",
      "        \"module_name\": \"ping\"\n",
      "    }, \n",
      "    \"ping\": \"pong\"\n",
      "}\u001b[0m\n"
     ]
    },
    {
     "ename": "",
     "evalue": "1",
     "output_type": "error",
     "traceback": []
    }
   ],
   "source": []
  },
  {
   "cell_type": "markdown",
   "metadata": {},
   "source": [
    "This command calls ansible and tells it:\n",
    "* To use `localhost` as it's inventory (`-i`). Inventory is Ansible speak for machine or machines you want to be able to run commands on. \n",
    "* To connect (`-c`) locally (`local`) instead of over SSH. \n",
    "* To run the [`ping` module](http://docs.ansible.com/ansible/ping_module.html) (`-m`) to test the connection.\n",
    "* To run the command on `all` hosts in the inventory (in this case, our inventory is just the `localhost`).\n",
    "\n",
    "[Michael Booth](http://www.mechanicalfish.net/start-learning-ansible-with-one-line-and-no-files/) has a [post](http://www.mechanicalfish.net/start-learning-ansible-with-one-line-and-no-files/) that goes into more detail about this command.\n",
    "\n",
    "Behind the scenes, Ansible is turning this `-m ping` command into shell commands. (Try running with the `-vvv` flag to see what's happening behind the scenes.) It can also execute arbitrary commands; by default, it'll use the Bourne shell `sh`. "
   ]
  },
  {
   "cell_type": "code",
   "execution_count": 51,
   "metadata": {
    "collapsed": false
   },
   "outputs": [
    {
     "name": "stdout",
     "output_type": "stream",
     "text": [
      "ansible all -i 'localhost, ' -c local -a \"/bin/echo hello\"\n",
      "\u001b[0;32mlocalhost | SUCCESS | rc=0 >>\n",
      "hello\n",
      "\u001b[0m\n"
     ]
    },
    {
     "ename": "",
     "evalue": "1",
     "output_type": "error",
     "traceback": []
    }
   ],
   "source": [
    "ansible all -i 'localhost, ' -c local -a \"/bin/echo hello\" "
   ]
  },
  {
   "cell_type": "markdown",
   "metadata": {},
   "source": [
    "### Setting up an Ansible Inventory\n",
    "\n",
    "Instead of specifying our inventory with the `-i` flag each time, we should specify an Ansible inventory file. This file is a text file specifying machines you have SSH access to; you can also group machines under bracketed headings. For example:\n",
    "\n",
    "```\n",
    "mail.example.com\n",
    "\n",
    "[webservers]\n",
    "foo.example.com\n",
    "bar.example.com\n",
    "\n",
    "[dbservers]\n",
    "one.example.com\n",
    "two.example.com\n",
    "three.example.com\n",
    "```\n",
    "\n",
    "Ansible has to be able to connect to these machines over SSH, so you will likely need to have relevant entries in your [`.ssh/config` file](http://nerderati.com/2011/03/17/simplify-your-life-with-an-ssh-config-file/).\n",
    "\n",
    "By default, the Ansible CLI will look for a system-wide Ansible inventory file in `/etc/ansible/hosts`. You can also specify an alternative path for an intentory file with the `-i` flag.\n",
    "\n",
    "For this tutorial, I'd like to have an inventory file specific to the project directory without having to specify it each time we call Ansible. We can do this by creating a file called `./ansible.cfg` and set the name of our local inventory file:"
   ]
  },
  {
   "cell_type": "code",
   "execution_count": 19,
   "metadata": {
    "collapsed": false
   },
   "outputs": [
    {
     "name": "stdout",
     "output_type": "stream",
     "text": [
      "cat ./ansible.cfg\n",
      "[defaults]\n",
      "inventory = ./hosts"
     ]
    },
    {
     "ename": "",
     "evalue": "1",
     "output_type": "error",
     "traceback": []
    }
   ],
   "source": [
    "cat ./ansible.cfg"
   ]
  },
  {
   "cell_type": "markdown",
   "metadata": {},
   "source": [
    "You can check that Ansible is picking up your config file by running `ansible --version`."
   ]
  },
  {
   "cell_type": "code",
   "execution_count": 24,
   "metadata": {
    "collapsed": false
   },
   "outputs": [
    {
     "name": "stdout",
     "output_type": "stream",
     "text": [
      "ansible --version\n",
      "ansible 2.1.0.0\n",
      "  config file = /Users/tdhopper/repos/automating_python/ansible.cfg\n",
      "  configured module search path = Default w/o overrides\n"
     ]
    },
    {
     "ename": "",
     "evalue": "1",
     "output_type": "error",
     "traceback": []
    }
   ],
   "source": [
    "ansible --version"
   ]
  },
  {
   "cell_type": "markdown",
   "metadata": {},
   "source": [
    "For this example, I just have one host, a [Digital Ocean VPS](https://www.digitalocean.com/). To run the examples below, you should create a VPS instance on Digital Ocean, [Amazon](https://amazonlightsail.com), or elsewhere; you'll want to configure it for [passwordless authentication](https://www.digitalocean.com/community/tutorials/how-to-set-up-ssh-keys--2). I have an entry like this in my `~/.ssh/hosts` file: \n",
    "\n",
    "```\n",
    "Host digitalocean\n",
    "  HostName 45.55.395.23\n",
    "  User root\n",
    "  Port 22\n",
    "  IdentityFile /Users/tdhopper/.ssh/id_rsa\n",
    "  ForwardAgent yes\n",
    "```\n",
    "  \n",
    "and my intentory file (`~/hosts`) is just\n",
    "\n",
    "```\n",
    "digitalocean\n",
    "```\n",
    "\n",
    "Now I can verify that Ansible can connect to my machine by running the ping command. "
   ]
  },
  {
   "cell_type": "code",
   "execution_count": 39,
   "metadata": {
    "collapsed": false
   },
   "outputs": [
    {
     "name": "stdout",
     "output_type": "stream",
     "text": [
      "ansible all -m ping\n",
      "\u001b[0;32mdigitalocean | SUCCESS => {\n",
      "    \"changed\": false, \n",
      "    \"ping\": \"pong\"\n",
      "}\u001b[0m\n"
     ]
    },
    {
     "ename": "",
     "evalue": "1",
     "output_type": "error",
     "traceback": []
    }
   ],
   "source": [
    "ansible all -m ping"
   ]
  },
  {
   "cell_type": "markdown",
   "metadata": {},
   "source": [
    "We told Ansible to run this command on `all` specified hosts in the inventory. It found our inventory by loading the `ansible.cfg` which specified `./hosts` as the inventory file."
   ]
  },
  {
   "cell_type": "markdown",
   "metadata": {},
   "source": [
    "### Writing our first Playbook"
   ]
  },
  {
   "cell_type": "markdown",
   "metadata": {},
   "source": [
    "While adhoc commands will often be useful, the real power of Ansible comes from creating repeatable sets of instructions called [Playbooks](http://docs.ansible.com/ansible/playbooks.html).\n",
    "\n",
    "A playbook contains a list of \"plays\". Each play specifies a set of tasks to be run and which hosts to run them on. A \"task\" is a call to an Ansible module, like the \"ping\" module we've already seen. Ansible [comes packaged with about 1000 modules](http://docs.ansible.com/ansible/list_of_all_modules.html) for all sorts of use cases. You can also extend it with your own [modules](http://docs.ansible.com/ansible/dev_guide/developing_modules.html) and [roles](http://docs.ansible.com/ansible/playbooks_roles.html#roles).\n",
    "\n",
    "Our first playbook will just execute the ping module on all our hosts. It's a playbook with a single play comprised of a single task."
   ]
  },
  {
   "cell_type": "code",
   "execution_count": 66,
   "metadata": {
    "collapsed": false
   },
   "outputs": [
    {
     "name": "stdout",
     "output_type": "stream",
     "text": [
      "cat ping.yml\n",
      "---\n",
      "- hosts: all\n",
      "  tasks:\n",
      "  - name: ping all hosts\n",
      "    ping:"
     ]
    },
    {
     "ename": "",
     "evalue": "1",
     "output_type": "error",
     "traceback": []
    }
   ],
   "source": [
    "cat ping.yml"
   ]
  },
  {
   "cell_type": "markdown",
   "metadata": {},
   "source": [
    "We can run our playbook with the `ansible-playbook` command."
   ]
  },
  {
   "cell_type": "code",
   "execution_count": 70,
   "metadata": {
    "collapsed": false
   },
   "outputs": [
    {
     "name": "stdout",
     "output_type": "stream",
     "text": [
      "ansible-playbook ping.yml\n",
      " ____________ \n",
      "< PLAY [all] >\n",
      " ------------ \n",
      "        \\   ^__^\n",
      "         \\  (oo)\\_______\n",
      "            (__)\\       )\\/\\\n",
      "                ||----w |\n",
      "                ||     ||\n",
      "\n",
      " ______________ \n",
      "< TASK [setup] >\n",
      " -------------- \n",
      "        \\   ^__^\n",
      "         \\  (oo)\\_______\n",
      "            (__)\\       )\\/\\\n",
      "                ||----w |\n",
      "                ||     ||\n",
      "\n",
      "\u001b[0;32mok: [digitalocean]\u001b[0m\n",
      " _______________________ \n",
      "< TASK [ping all hosts] >\n",
      " ----------------------- \n",
      "        \\   ^__^\n",
      "         \\  (oo)\\_______\n",
      "            (__)\\       )\\/\\\n",
      "                ||----w |\n",
      "                ||     ||\n",
      "\n",
      "\u001b[0;32mok: [digitalocean]\u001b[0m\n",
      " ____________ \n",
      "< PLAY RECAP >\n",
      " ------------ \n",
      "        \\   ^__^\n",
      "         \\  (oo)\\_______\n",
      "            (__)\\       )\\/\\\n",
      "                ||----w |\n",
      "                ||     ||\n",
      "\n",
      "\u001b[0;32mdigitalocean\u001b[0m               : \u001b[0;32mok\u001b[0m\u001b[0;32m=\u001b[0m\u001b[0;32m2\u001b[0m    changed=0    unreachable=0    failed=0   \n",
      "\n"
     ]
    },
    {
     "ename": "",
     "evalue": "1",
     "output_type": "error",
     "traceback": []
    }
   ],
   "source": [
    "ansible-playbook ping.yml"
   ]
  },
  {
   "cell_type": "markdown",
   "metadata": {},
   "source": [
    "You might wonder why there are cows on your screen. You can find out [here](https://michaelheap.com/cowsay-and-ansible/). However, the important thing is that our task was executed and returned successfully.\n",
    "\n",
    "We can override the hosts list for the play with the `-i` flag to see what the output looks like when Ansible fails to run the play."
   ]
  },
  {
   "cell_type": "code",
   "execution_count": 72,
   "metadata": {
    "collapsed": false
   },
   "outputs": [
    {
     "name": "stdout",
     "output_type": "stream",
     "text": [
      "ansible-playbook -i \"fakehost, \" ping.yml\n",
      " ____________ \n",
      "< PLAY [all] >\n",
      " ------------ \n",
      "        \\   ^__^\n",
      "         \\  (oo)\\_______\n",
      "            (__)\\       )\\/\\\n",
      "                ||----w |\n",
      "                ||     ||\n",
      "\n",
      " ______________ \n",
      "< TASK [setup] >\n",
      " -------------- \n",
      "        \\   ^__^\n",
      "         \\  (oo)\\_______\n",
      "            (__)\\       )\\/\\\n",
      "                ||----w |\n",
      "                ||     ||\n",
      "\n",
      "\u001b[1;31mfatal: [fakehost]: UNREACHABLE! => {\"changed\": false, \"msg\": \"Failed to connect to the host via ssh.\", \"unreachable\": true}\u001b[0m\n",
      "\tto retry, use: --limit @ping.retry\n",
      " ____________ \n",
      "< PLAY RECAP >\n",
      " ------------ \n",
      "        \\   ^__^\n",
      "         \\  (oo)\\_______\n",
      "            (__)\\       )\\/\\\n",
      "                ||----w |\n",
      "                ||     ||\n",
      "\n",
      "\u001b[0;31mfakehost\u001b[0m                   : ok=0    changed=0    \u001b[1;31munreachable\u001b[0m\u001b[1;31m=\u001b[0m\u001b[1;31m1\u001b[0m    failed=0   \n",
      "\n"
     ]
    },
    {
     "ename": "",
     "evalue": "1",
     "output_type": "error",
     "traceback": []
    }
   ],
   "source": [
    "ansible-playbook -i \"fakehost, \" ping.yml"
   ]
  }
 ],
 "metadata": {
  "kernelspec": {
   "display_name": "Bash",
   "language": "bash",
   "name": "bash"
  },
  "language_info": {
   "codemirror_mode": "shell",
   "file_extension": ".sh",
   "mimetype": "text/x-sh",
   "name": "bash"
  }
 },
 "nbformat": 4,
 "nbformat_minor": 2
}
